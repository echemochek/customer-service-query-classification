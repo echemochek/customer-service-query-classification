{
 "cells": [
  {
   "cell_type": "markdown",
   "metadata": {},
   "source": [
    "# Customer Service Query Classification "
   ]
  },
  {
   "cell_type": "markdown",
   "metadata": {},
   "source": [
    "### Import libaries\n",
    "---"
   ]
  },
  {
   "cell_type": "code",
   "execution_count": 19,
   "metadata": {},
   "outputs": [],
   "source": [
    "import pandas as pd\n",
    "import numpy as np\n",
    "import missingno\n",
    "import matplotlib.pyplot as plt\n",
    "import seaborn as sns\n",
    "from sklearn.metrics import classification_report\n",
    "from sklearn.preprocessing import LabelEncoder\n",
    "from sklearn.feature_extraction.text import TfidfVectorizer\n",
    "from sklearn.model_selection import GridSearchCV\n",
    "import random\n",
    "\n",
    "random.seed(42)"
   ]
  },
  {
   "cell_type": "code",
   "execution_count": 3,
   "metadata": {},
   "outputs": [],
   "source": [
    "# dictionary to store metrics of different models\n",
    "\n",
    "modelMetrics = {\n",
    "                'svc': {'tfidf': [], 'tfidf_ngrams': [], 'word2vec': [], 'doc2vec': []},\n",
    "                'xgboost': {'tfidf': [], 'tfidf_ngrams': [], 'word2vec': [], 'doc2vec': []},\n",
    "                'knn': {'tfidf': [], 'tfidf_ngrams': [], 'word2vec': [], 'doc2vec': []}\n",
    "                }"
   ]
  },
  {
   "cell_type": "markdown",
   "metadata": {},
   "source": [
    "### Load data\n",
    "---"
   ]
  },
  {
   "cell_type": "code",
   "execution_count": 4,
   "metadata": {},
   "outputs": [],
   "source": [
    "df = pd.read_csv(\"data/Customer_Service_Questions_Multiclass.csv\")"
   ]
  },
  {
   "cell_type": "markdown",
   "metadata": {},
   "source": [
    "### Initial data preparation\n",
    "---"
   ]
  },
  {
   "cell_type": "code",
   "execution_count": null,
   "metadata": {},
   "outputs": [],
   "source": [
    "# check for missing values\n",
    "# missingno.matrix(df) # there are no missing values"
   ]
  },
  {
   "cell_type": "code",
   "execution_count": null,
   "metadata": {},
   "outputs": [],
   "source": [
    "#'''\n",
    "# distribution of the topics column\n",
    "sns.countplot(x=df[\"topic\"], color = \"grey\")\n",
    "plt.title(\"Distribution by Department\")\n",
    "plt.xlabel(\"Topic\")\n",
    "plt.ylabel(\"Frequency\")\n",
    "plt.xticks(rotation=65)\n",
    "#'''"
   ]
  },
  {
   "cell_type": "code",
   "execution_count": 5,
   "metadata": {},
   "outputs": [],
   "source": [
    "#'''\n",
    "# encoding the labels\n",
    "encoder = LabelEncoder()\n",
    "\n",
    "encoder.fit(df['topic'])\n",
    "df['category'] = encoder.transform(df['topic'])\n",
    "#'''"
   ]
  },
  {
   "cell_type": "markdown",
   "metadata": {},
   "source": [
    "## Train-test split\n",
    "---"
   ]
  },
  {
   "cell_type": "code",
   "execution_count": 6,
   "metadata": {},
   "outputs": [],
   "source": [
    "# train-test split\n",
    "from sklearn.model_selection import train_test_split\n",
    "\n",
    "xtrain, xtest, ytrain, ytest = train_test_split(df.question, df.category, stratify=df.category, test_size=0.2, random_state=42)"
   ]
  },
  {
   "cell_type": "markdown",
   "metadata": {},
   "source": [
    "## Get data in different formats\n",
    "\n",
    "1. TF-IDF vector\n",
    "2. TF-IDF vector of n-grams\n",
    "3. Word vectors (GloVe)\n",
    "4. Document vectors (Doc2Vec)\n",
    "---"
   ]
  },
  {
   "cell_type": "markdown",
   "metadata": {},
   "source": [
    "TF-IDF vectors"
   ]
  },
  {
   "cell_type": "code",
   "execution_count": 7,
   "metadata": {},
   "outputs": [],
   "source": [
    "# TF-IDF vector\n",
    "vectorizer = TfidfVectorizer(\n",
    "                            strip_accents=\"unicode\", lowercase=True, analyzer='word', \n",
    "                            stop_words='english', max_df=0.95, min_df=0.05, max_features=500\n",
    "                            )\n",
    "vectorizer.fit(df.question)\n",
    "\n",
    "dfTfidf_train = vectorizer.transform(xtrain)\n",
    "dfTfidf_test = vectorizer.transform(xtest)"
   ]
  },
  {
   "cell_type": "markdown",
   "metadata": {},
   "source": [
    "TF-IDF n-grams vectors"
   ]
  },
  {
   "cell_type": "code",
   "execution_count": 8,
   "metadata": {},
   "outputs": [],
   "source": [
    "# TF-IDF vector of n-grams\n",
    "ngrams_vectorizer = TfidfVectorizer(\n",
    "                            strip_accents=\"unicode\", lowercase=True, analyzer='word', ngram_range=(2,3), \n",
    "                            max_df=0.95, min_df=0.05, max_features=500\n",
    "                            )\n",
    "ngrams_vectorizer.fit(df.question)\n",
    "\n",
    "dfTfidf_ngrams_train = ngrams_vectorizer.transform(xtrain)\n",
    "dfTfidf_ngrams_test = ngrams_vectorizer.transform(xtest)"
   ]
  },
  {
   "cell_type": "markdown",
   "metadata": {},
   "source": [
    "Word vectors"
   ]
  },
  {
   "cell_type": "code",
   "execution_count": 10,
   "metadata": {},
   "outputs": [
    {
     "name": "stdout",
     "output_type": "stream",
     "text": [
      "Train features shape: (4000, 100) \n",
      "Test features shape: (1000, 100)\n"
     ]
    }
   ],
   "source": [
    "# Word vectors \n",
    "from gensim.models import Word2Vec\n",
    "\n",
    "wordvec = Word2Vec(xtrain, window=8, min_count=2, sample=1e-3, sg=1, workers=8)\n",
    "vocab = set(wordvec.wv.index_to_key)\n",
    "\n",
    "num_features = 100\n",
    "\n",
    "def average_word_vectors(tokens, model, vocabulary, num_features):\n",
    "    feature_vector = np.zeros((num_features,), dtype=\"float64\")\n",
    "    ntokens = 0.\n",
    "    for t in tokens:\n",
    "        if t in vocabulary: \n",
    "            ntokens = ntokens + 1.\n",
    "            feature_vector = np.add(feature_vector, model.wv[t])\n",
    "    if ntokens:\n",
    "        feature_vector = np.divide(feature_vector, ntokens)\n",
    "    return feature_vector\n",
    "\n",
    "\n",
    "word2vec_train = [average_word_vectors(sent_tokens, wordvec, vocab, num_features) \n",
    "               for sent_tokens in xtrain]\n",
    "avg_word2vec_train = np.array(word2vec_train)\n",
    "\n",
    "word2vec_test = [average_word_vectors(sent_tokens, wordvec, vocab, num_features) \n",
    "              for sent_tokens in xtest]\n",
    "avg_word2vec_test = np.array(word2vec_test)\n",
    "\n",
    "print('Train features shape:', avg_word2vec_train.shape, \n",
    "      '\\nTest features shape:', avg_word2vec_test.shape)"
   ]
  },
  {
   "cell_type": "markdown",
   "metadata": {},
   "source": [
    "Document vectors"
   ]
  },
  {
   "cell_type": "code",
   "execution_count": 11,
   "metadata": {},
   "outputs": [],
   "source": [
    "# TF-IDF vector\n",
    "from gensim.models.doc2vec import Doc2Vec, TaggedDocument\n",
    "\n",
    "docs = [TaggedDocument(doc, [i]) for i, doc in enumerate(xtrain)]\n",
    "docvec = Doc2Vec(vector_size=100, window=3, min_count=4, workers=4, epochs=40)\n",
    "docvec.build_vocab(docs)\n",
    "docvec.train(docs, total_examples=docvec.corpus_count, epochs=docvec.epochs)\n",
    "\n",
    "from gensim.utils import simple_preprocess\n",
    "xtrainTokenized = [simple_preprocess(h) for h in xtrain]\n",
    "xtestTokenized = [simple_preprocess(h) for h in xtest]\n",
    "\n",
    "docvec_train = [docvec.infer_vector(i) for i in xtrainTokenized]\n",
    "docvec_test =  [docvec.infer_vector(i) for i in xtestTokenized]"
   ]
  },
  {
   "cell_type": "markdown",
   "metadata": {},
   "source": [
    "Models to consider:\n",
    "-\n",
    "1. One multi-class classifier (e.g., Naive Bayes, Logistic, Decision Tree, SVM)\n",
    "2. One ensemble classifier whose code is also provided (e.g., Random Forest, XGBoost)\n",
    "3. One other model of your choice whose code is NOT provided in class handouts\n",
    "\n",
    "Input features to consider for each model:\n",
    "-\n",
    "1. TF-IDF vector of tokenized words\n",
    "2. TF-IDF vector of n-grams (of range 4-5)\n",
    "3. Word vectors (Glove, Word2Vec, or FastText)\n",
    "4. Document vectors (Doc2Vec)"
   ]
  },
  {
   "cell_type": "markdown",
   "metadata": {},
   "source": [
    "#### Build model"
   ]
  },
  {
   "cell_type": "code",
   "execution_count": 12,
   "metadata": {},
   "outputs": [],
   "source": [
    "# svc\n",
    "from sklearn.svm import SVC\n",
    "svc = SVC()"
   ]
  },
  {
   "cell_type": "markdown",
   "metadata": {},
   "source": [
    "#### Train model and make predictions"
   ]
  },
  {
   "cell_type": "markdown",
   "metadata": {},
   "source": [
    "# SVC"
   ]
  },
  {
   "cell_type": "code",
   "execution_count": 13,
   "metadata": {},
   "outputs": [],
   "source": [
    "# tf-idf\n",
    "model_SVC_tfidf = svc.fit(dfTfidf_train, ytrain)\n",
    "svc_tfidf_pred = model_SVC_tfidf.predict(dfTfidf_test)\n",
    "\n",
    "# n-grams tf-idf\n",
    "model_SVC_ngramTfidf = svc.fit(dfTfidf_ngrams_train, ytrain)\n",
    "svc_ngram_tfidf_pred = model_SVC_ngramTfidf.predict(dfTfidf_ngrams_test)\n",
    "\n",
    "# word vectors\n",
    "model_SVC_word2vec = svc.fit(avg_word2vec_train, ytrain)\n",
    "svc_word2vec_pred = model_SVC_word2vec.predict(avg_word2vec_test)\n",
    "\n",
    "# document vectors\n",
    "model_SVC_doc2vec = svc.fit(docvec_train, ytrain)\n",
    "svc_doc2vec_pred = model_SVC_doc2vec.predict(docvec_test)"
   ]
  },
  {
   "cell_type": "markdown",
   "metadata": {},
   "source": [
    "#### Evaluate model"
   ]
  },
  {
   "cell_type": "code",
   "execution_count": 14,
   "metadata": {},
   "outputs": [
    {
     "name": "stdout",
     "output_type": "stream",
     "text": [
      "\n",
      "TF-IDF\n",
      "               precision    recall  f1-score   support\n",
      "\n",
      "           0       0.90      0.83      0.87        90\n",
      "           1       0.53      0.83      0.65       167\n",
      "           2       0.69      0.49      0.57       161\n",
      "           3       0.67      0.65      0.66       168\n",
      "           4       0.98      0.97      0.98       153\n",
      "           5       0.70      0.49      0.57       101\n",
      "           6       0.93      0.92      0.92       160\n",
      "\n",
      "    accuracy                           0.75      1000\n",
      "   macro avg       0.77      0.74      0.75      1000\n",
      "weighted avg       0.76      0.75      0.75      1000\n",
      "\n"
     ]
    }
   ],
   "source": [
    "# svc tf-idf\n",
    "print(\"\\nTF-IDF\\n\", classification_report(ytest, svc_tfidf_pred)) # not removing stopwords improves the model significantly"
   ]
  },
  {
   "cell_type": "code",
   "execution_count": null,
   "metadata": {},
   "outputs": [],
   "source": [
    "# svc n-grams tf-idf\n",
    "print(\"\\nTF-IDF n-grams\\n\", classification_report(ytest, svc_ngram_tfidf_pred)) "
   ]
  },
  {
   "cell_type": "code",
   "execution_count": null,
   "metadata": {},
   "outputs": [],
   "source": [
    "# word vectors\n",
    "print(\"\\nWord vectors\\n\", classification_report(ytest, svc_word2vec_pred)) "
   ]
  },
  {
   "cell_type": "code",
   "execution_count": null,
   "metadata": {},
   "outputs": [],
   "source": [
    "# document vectors\n",
    "print(\"\\nDocument Vectors\\n\", classification_report(ytest, svc_doc2vec_pred)) "
   ]
  },
  {
   "cell_type": "markdown",
   "metadata": {},
   "source": [
    "### Hyperparameter optimization"
   ]
  },
  {
   "cell_type": "code",
   "execution_count": 21,
   "metadata": {},
   "outputs": [
    {
     "name": "stdout",
     "output_type": "stream",
     "text": [
      "Fitting 5 folds for each of 75 candidates, totalling 375 fits\n",
      "[CV 1/5] END .....C=0.1, gamma=1, kernel=linear;, score=0.672 total time=   0.4s\n",
      "[CV 2/5] END .....C=0.1, gamma=1, kernel=linear;, score=0.677 total time=   0.5s\n",
      "[CV 3/5] END .....C=0.1, gamma=1, kernel=linear;, score=0.639 total time=   0.3s\n",
      "[CV 4/5] END .....C=0.1, gamma=1, kernel=linear;, score=0.657 total time=   0.3s\n",
      "[CV 5/5] END .....C=0.1, gamma=1, kernel=linear;, score=0.657 total time=   0.3s\n",
      "[CV 1/5] END ........C=0.1, gamma=1, kernel=rbf;, score=0.705 total time=   0.5s\n",
      "[CV 2/5] END ........C=0.1, gamma=1, kernel=rbf;, score=0.693 total time=   0.6s\n",
      "[CV 3/5] END ........C=0.1, gamma=1, kernel=rbf;, score=0.681 total time=   0.6s\n",
      "[CV 4/5] END ........C=0.1, gamma=1, kernel=rbf;, score=0.682 total time=   0.4s\n",
      "[CV 5/5] END ........C=0.1, gamma=1, kernel=rbf;, score=0.705 total time=   0.5s\n",
      "[CV 1/5] END ....C=0.1, gamma=1, kernel=sigmoid;, score=0.651 total time=   0.5s\n",
      "[CV 2/5] END ....C=0.1, gamma=1, kernel=sigmoid;, score=0.652 total time=   0.4s\n",
      "[CV 3/5] END ....C=0.1, gamma=1, kernel=sigmoid;, score=0.616 total time=   0.6s\n",
      "[CV 4/5] END ....C=0.1, gamma=1, kernel=sigmoid;, score=0.641 total time=   0.4s\n",
      "[CV 5/5] END ....C=0.1, gamma=1, kernel=sigmoid;, score=0.615 total time=   0.4s\n",
      "[CV 1/5] END ...C=0.1, gamma=0.1, kernel=linear;, score=0.672 total time=   0.3s\n",
      "[CV 2/5] END ...C=0.1, gamma=0.1, kernel=linear;, score=0.677 total time=   0.4s\n",
      "[CV 3/5] END ...C=0.1, gamma=0.1, kernel=linear;, score=0.639 total time=   0.4s\n",
      "[CV 4/5] END ...C=0.1, gamma=0.1, kernel=linear;, score=0.657 total time=   0.3s\n",
      "[CV 5/5] END ...C=0.1, gamma=0.1, kernel=linear;, score=0.657 total time=   0.3s\n",
      "[CV 1/5] END ......C=0.1, gamma=0.1, kernel=rbf;, score=0.637 total time=   0.8s\n",
      "[CV 2/5] END ......C=0.1, gamma=0.1, kernel=rbf;, score=0.615 total time=   0.8s\n",
      "[CV 3/5] END ......C=0.1, gamma=0.1, kernel=rbf;, score=0.611 total time=   0.7s\n",
      "[CV 4/5] END ......C=0.1, gamma=0.1, kernel=rbf;, score=0.586 total time=   0.7s\n",
      "[CV 5/5] END ......C=0.1, gamma=0.1, kernel=rbf;, score=0.584 total time=   0.8s\n",
      "[CV 1/5] END ..C=0.1, gamma=0.1, kernel=sigmoid;, score=0.545 total time=   0.9s\n",
      "[CV 2/5] END ..C=0.1, gamma=0.1, kernel=sigmoid;, score=0.509 total time=   0.6s\n",
      "[CV 3/5] END ..C=0.1, gamma=0.1, kernel=sigmoid;, score=0.517 total time=   0.8s\n",
      "[CV 4/5] END ..C=0.1, gamma=0.1, kernel=sigmoid;, score=0.499 total time=   0.7s\n",
      "[CV 5/5] END ..C=0.1, gamma=0.1, kernel=sigmoid;, score=0.496 total time=   1.0s\n",
      "[CV 1/5] END ..C=0.1, gamma=0.01, kernel=linear;, score=0.672 total time=   0.3s\n",
      "[CV 2/5] END ..C=0.1, gamma=0.01, kernel=linear;, score=0.677 total time=   0.4s\n",
      "[CV 3/5] END ..C=0.1, gamma=0.01, kernel=linear;, score=0.639 total time=   0.3s\n",
      "[CV 4/5] END ..C=0.1, gamma=0.01, kernel=linear;, score=0.657 total time=   0.4s\n",
      "[CV 5/5] END ..C=0.1, gamma=0.01, kernel=linear;, score=0.657 total time=   0.3s\n",
      "[CV 1/5] END .....C=0.1, gamma=0.01, kernel=rbf;, score=0.169 total time=   0.9s\n",
      "[CV 2/5] END .....C=0.1, gamma=0.01, kernel=rbf;, score=0.168 total time=   0.8s\n",
      "[CV 3/5] END .....C=0.1, gamma=0.01, kernel=rbf;, score=0.168 total time=   0.9s\n",
      "[CV 4/5] END .....C=0.1, gamma=0.01, kernel=rbf;, score=0.168 total time=   0.8s\n",
      "[CV 5/5] END .....C=0.1, gamma=0.01, kernel=rbf;, score=0.168 total time=   1.0s\n",
      "[CV 1/5] END .C=0.1, gamma=0.01, kernel=sigmoid;, score=0.169 total time=   0.8s\n",
      "[CV 2/5] END .C=0.1, gamma=0.01, kernel=sigmoid;, score=0.168 total time=   0.8s\n",
      "[CV 3/5] END .C=0.1, gamma=0.01, kernel=sigmoid;, score=0.168 total time=   0.7s\n",
      "[CV 4/5] END .C=0.1, gamma=0.01, kernel=sigmoid;, score=0.168 total time=   0.7s\n",
      "[CV 5/5] END .C=0.1, gamma=0.01, kernel=sigmoid;, score=0.168 total time=   0.7s\n",
      "[CV 1/5] END .C=0.1, gamma=0.001, kernel=linear;, score=0.672 total time=   0.3s\n",
      "[CV 2/5] END .C=0.1, gamma=0.001, kernel=linear;, score=0.677 total time=   0.4s\n",
      "[CV 3/5] END .C=0.1, gamma=0.001, kernel=linear;, score=0.639 total time=   0.2s\n",
      "[CV 4/5] END .C=0.1, gamma=0.001, kernel=linear;, score=0.657 total time=   0.3s\n",
      "[CV 5/5] END .C=0.1, gamma=0.001, kernel=linear;, score=0.657 total time=   0.5s\n",
      "[CV 1/5] END ....C=0.1, gamma=0.001, kernel=rbf;, score=0.169 total time=   0.7s\n",
      "[CV 2/5] END ....C=0.1, gamma=0.001, kernel=rbf;, score=0.168 total time=   0.8s\n",
      "[CV 3/5] END ....C=0.1, gamma=0.001, kernel=rbf;, score=0.168 total time=   0.7s\n",
      "[CV 4/5] END ....C=0.1, gamma=0.001, kernel=rbf;, score=0.168 total time=   0.7s\n",
      "[CV 5/5] END ....C=0.1, gamma=0.001, kernel=rbf;, score=0.168 total time=   0.8s\n",
      "[CV 1/5] END C=0.1, gamma=0.001, kernel=sigmoid;, score=0.169 total time=   0.7s\n",
      "[CV 2/5] END C=0.1, gamma=0.001, kernel=sigmoid;, score=0.168 total time=   0.6s\n",
      "[CV 3/5] END C=0.1, gamma=0.001, kernel=sigmoid;, score=0.168 total time=   0.7s\n",
      "[CV 4/5] END C=0.1, gamma=0.001, kernel=sigmoid;, score=0.168 total time=   0.7s\n",
      "[CV 5/5] END C=0.1, gamma=0.001, kernel=sigmoid;, score=0.168 total time=   0.8s\n",
      "[CV 1/5] END C=0.1, gamma=0.0001, kernel=linear;, score=0.672 total time=   0.4s\n",
      "[CV 2/5] END C=0.1, gamma=0.0001, kernel=linear;, score=0.677 total time=   0.3s\n",
      "[CV 3/5] END C=0.1, gamma=0.0001, kernel=linear;, score=0.639 total time=   0.3s\n",
      "[CV 4/5] END C=0.1, gamma=0.0001, kernel=linear;, score=0.657 total time=   0.4s\n",
      "[CV 5/5] END C=0.1, gamma=0.0001, kernel=linear;, score=0.657 total time=   0.3s\n",
      "[CV 1/5] END ...C=0.1, gamma=0.0001, kernel=rbf;, score=0.169 total time=   0.7s\n",
      "[CV 2/5] END ...C=0.1, gamma=0.0001, kernel=rbf;, score=0.168 total time=   0.7s\n",
      "[CV 3/5] END ...C=0.1, gamma=0.0001, kernel=rbf;, score=0.168 total time=   0.6s\n",
      "[CV 4/5] END ...C=0.1, gamma=0.0001, kernel=rbf;, score=0.168 total time=   0.9s\n",
      "[CV 5/5] END ...C=0.1, gamma=0.0001, kernel=rbf;, score=0.168 total time=   0.8s\n",
      "[CV 1/5] END C=0.1, gamma=0.0001, kernel=sigmoid;, score=0.169 total time=   0.8s\n",
      "[CV 2/5] END C=0.1, gamma=0.0001, kernel=sigmoid;, score=0.168 total time=   0.7s\n",
      "[CV 3/5] END C=0.1, gamma=0.0001, kernel=sigmoid;, score=0.168 total time=   0.7s\n",
      "[CV 4/5] END C=0.1, gamma=0.0001, kernel=sigmoid;, score=0.168 total time=   0.6s\n",
      "[CV 5/5] END C=0.1, gamma=0.0001, kernel=sigmoid;, score=0.168 total time=   0.7s\n",
      "[CV 1/5] END .......C=1, gamma=1, kernel=linear;, score=0.685 total time=   0.3s\n",
      "[CV 2/5] END .......C=1, gamma=1, kernel=linear;, score=0.682 total time=   0.3s\n",
      "[CV 3/5] END .......C=1, gamma=1, kernel=linear;, score=0.676 total time=   0.2s\n",
      "[CV 4/5] END .......C=1, gamma=1, kernel=linear;, score=0.685 total time=   0.3s\n",
      "[CV 5/5] END .......C=1, gamma=1, kernel=linear;, score=0.666 total time=   0.2s\n",
      "[CV 1/5] END ..........C=1, gamma=1, kernel=rbf;, score=0.735 total time=   0.2s\n",
      "[CV 2/5] END ..........C=1, gamma=1, kernel=rbf;, score=0.715 total time=   0.2s\n",
      "[CV 3/5] END ..........C=1, gamma=1, kernel=rbf;, score=0.715 total time=   0.2s\n",
      "[CV 4/5] END ..........C=1, gamma=1, kernel=rbf;, score=0.724 total time=   0.3s\n",
      "[CV 5/5] END ..........C=1, gamma=1, kernel=rbf;, score=0.739 total time=   0.3s\n",
      "[CV 1/5] END ......C=1, gamma=1, kernel=sigmoid;, score=0.601 total time=   0.2s\n",
      "[CV 2/5] END ......C=1, gamma=1, kernel=sigmoid;, score=0.596 total time=   0.3s\n",
      "[CV 3/5] END ......C=1, gamma=1, kernel=sigmoid;, score=0.562 total time=   0.2s\n",
      "[CV 4/5] END ......C=1, gamma=1, kernel=sigmoid;, score=0.564 total time=   0.3s\n",
      "[CV 5/5] END ......C=1, gamma=1, kernel=sigmoid;, score=0.569 total time=   0.2s\n",
      "[CV 1/5] END .....C=1, gamma=0.1, kernel=linear;, score=0.685 total time=   0.1s\n",
      "[CV 2/5] END .....C=1, gamma=0.1, kernel=linear;, score=0.682 total time=   0.2s\n",
      "[CV 3/5] END .....C=1, gamma=0.1, kernel=linear;, score=0.676 total time=   0.1s\n",
      "[CV 4/5] END .....C=1, gamma=0.1, kernel=linear;, score=0.685 total time=   0.2s\n",
      "[CV 5/5] END .....C=1, gamma=0.1, kernel=linear;, score=0.666 total time=   0.1s\n",
      "[CV 1/5] END ........C=1, gamma=0.1, kernel=rbf;, score=0.694 total time=   0.3s\n",
      "[CV 2/5] END ........C=1, gamma=0.1, kernel=rbf;, score=0.689 total time=   0.4s\n",
      "[CV 3/5] END ........C=1, gamma=0.1, kernel=rbf;, score=0.672 total time=   0.3s\n",
      "[CV 4/5] END ........C=1, gamma=0.1, kernel=rbf;, score=0.675 total time=   0.3s\n",
      "[CV 5/5] END ........C=1, gamma=0.1, kernel=rbf;, score=0.686 total time=   0.4s\n",
      "[CV 1/5] END ....C=1, gamma=0.1, kernel=sigmoid;, score=0.672 total time=   0.3s\n",
      "[CV 2/5] END ....C=1, gamma=0.1, kernel=sigmoid;, score=0.677 total time=   0.4s\n",
      "[CV 3/5] END ....C=1, gamma=0.1, kernel=sigmoid;, score=0.639 total time=   0.4s\n",
      "[CV 4/5] END ....C=1, gamma=0.1, kernel=sigmoid;, score=0.659 total time=   0.3s\n",
      "[CV 5/5] END ....C=1, gamma=0.1, kernel=sigmoid;, score=0.657 total time=   0.3s\n",
      "[CV 1/5] END ....C=1, gamma=0.01, kernel=linear;, score=0.685 total time=   0.3s\n",
      "[CV 2/5] END ....C=1, gamma=0.01, kernel=linear;, score=0.682 total time=   0.2s\n",
      "[CV 3/5] END ....C=1, gamma=0.01, kernel=linear;, score=0.676 total time=   0.2s\n",
      "[CV 4/5] END ....C=1, gamma=0.01, kernel=linear;, score=0.685 total time=   0.2s\n",
      "[CV 5/5] END ....C=1, gamma=0.01, kernel=linear;, score=0.666 total time=   0.4s\n",
      "[CV 1/5] END .......C=1, gamma=0.01, kernel=rbf;, score=0.609 total time=   0.8s\n",
      "[CV 2/5] END .......C=1, gamma=0.01, kernel=rbf;, score=0.593 total time=   0.7s\n",
      "[CV 3/5] END .......C=1, gamma=0.01, kernel=rbf;, score=0.583 total time=   0.6s\n",
      "[CV 4/5] END .......C=1, gamma=0.01, kernel=rbf;, score=0.573 total time=   0.6s\n",
      "[CV 5/5] END .......C=1, gamma=0.01, kernel=rbf;, score=0.573 total time=   0.6s\n",
      "[CV 1/5] END ...C=1, gamma=0.01, kernel=sigmoid;, score=0.545 total time=   0.7s\n",
      "[CV 2/5] END ...C=1, gamma=0.01, kernel=sigmoid;, score=0.509 total time=   0.7s\n",
      "[CV 3/5] END ...C=1, gamma=0.01, kernel=sigmoid;, score=0.517 total time=   0.7s\n",
      "[CV 4/5] END ...C=1, gamma=0.01, kernel=sigmoid;, score=0.500 total time=   0.6s\n",
      "[CV 5/5] END ...C=1, gamma=0.01, kernel=sigmoid;, score=0.496 total time=   0.8s\n",
      "[CV 1/5] END ...C=1, gamma=0.001, kernel=linear;, score=0.685 total time=   0.2s\n",
      "[CV 2/5] END ...C=1, gamma=0.001, kernel=linear;, score=0.682 total time=   0.2s\n",
      "[CV 3/5] END ...C=1, gamma=0.001, kernel=linear;, score=0.676 total time=   0.2s\n",
      "[CV 4/5] END ...C=1, gamma=0.001, kernel=linear;, score=0.685 total time=   0.2s\n",
      "[CV 5/5] END ...C=1, gamma=0.001, kernel=linear;, score=0.666 total time=   0.2s\n",
      "[CV 1/5] END ......C=1, gamma=0.001, kernel=rbf;, score=0.169 total time=   0.8s\n",
      "[CV 2/5] END ......C=1, gamma=0.001, kernel=rbf;, score=0.168 total time=   0.8s\n",
      "[CV 3/5] END ......C=1, gamma=0.001, kernel=rbf;, score=0.168 total time=   0.7s\n",
      "[CV 4/5] END ......C=1, gamma=0.001, kernel=rbf;, score=0.168 total time=   1.1s\n",
      "[CV 5/5] END ......C=1, gamma=0.001, kernel=rbf;, score=0.168 total time=   0.8s\n",
      "[CV 1/5] END ..C=1, gamma=0.001, kernel=sigmoid;, score=0.169 total time=   0.9s\n",
      "[CV 2/5] END ..C=1, gamma=0.001, kernel=sigmoid;, score=0.168 total time=   0.8s\n",
      "[CV 3/5] END ..C=1, gamma=0.001, kernel=sigmoid;, score=0.168 total time=   0.7s\n",
      "[CV 4/5] END ..C=1, gamma=0.001, kernel=sigmoid;, score=0.168 total time=   0.8s\n",
      "[CV 5/5] END ..C=1, gamma=0.001, kernel=sigmoid;, score=0.168 total time=   0.8s\n",
      "[CV 1/5] END ..C=1, gamma=0.0001, kernel=linear;, score=0.685 total time=   0.2s\n",
      "[CV 2/5] END ..C=1, gamma=0.0001, kernel=linear;, score=0.682 total time=   0.3s\n",
      "[CV 3/5] END ..C=1, gamma=0.0001, kernel=linear;, score=0.676 total time=   0.2s\n",
      "[CV 4/5] END ..C=1, gamma=0.0001, kernel=linear;, score=0.685 total time=   0.2s\n",
      "[CV 5/5] END ..C=1, gamma=0.0001, kernel=linear;, score=0.666 total time=   0.3s\n",
      "[CV 1/5] END .....C=1, gamma=0.0001, kernel=rbf;, score=0.169 total time=   0.7s\n",
      "[CV 2/5] END .....C=1, gamma=0.0001, kernel=rbf;, score=0.168 total time=   0.7s\n",
      "[CV 3/5] END .....C=1, gamma=0.0001, kernel=rbf;, score=0.168 total time=   0.8s\n",
      "[CV 4/5] END .....C=1, gamma=0.0001, kernel=rbf;, score=0.168 total time=   0.8s\n",
      "[CV 5/5] END .....C=1, gamma=0.0001, kernel=rbf;, score=0.168 total time=   0.8s\n",
      "[CV 1/5] END .C=1, gamma=0.0001, kernel=sigmoid;, score=0.169 total time=   0.7s\n",
      "[CV 2/5] END .C=1, gamma=0.0001, kernel=sigmoid;, score=0.168 total time=   0.7s\n",
      "[CV 3/5] END .C=1, gamma=0.0001, kernel=sigmoid;, score=0.168 total time=   0.6s\n",
      "[CV 4/5] END .C=1, gamma=0.0001, kernel=sigmoid;, score=0.168 total time=   0.7s\n",
      "[CV 5/5] END .C=1, gamma=0.0001, kernel=sigmoid;, score=0.168 total time=   0.6s\n",
      "[CV 1/5] END ......C=10, gamma=1, kernel=linear;, score=0.686 total time=   0.3s\n",
      "[CV 2/5] END ......C=10, gamma=1, kernel=linear;, score=0.695 total time=   0.3s\n",
      "[CV 3/5] END ......C=10, gamma=1, kernel=linear;, score=0.690 total time=   0.3s\n",
      "[CV 4/5] END ......C=10, gamma=1, kernel=linear;, score=0.694 total time=   0.3s\n",
      "[CV 5/5] END ......C=10, gamma=1, kernel=linear;, score=0.674 total time=   0.3s\n",
      "[CV 1/5] END .........C=10, gamma=1, kernel=rbf;, score=0.736 total time=   0.2s\n",
      "[CV 2/5] END .........C=10, gamma=1, kernel=rbf;, score=0.731 total time=   0.2s\n",
      "[CV 3/5] END .........C=10, gamma=1, kernel=rbf;, score=0.724 total time=   0.2s\n",
      "[CV 4/5] END .........C=10, gamma=1, kernel=rbf;, score=0.729 total time=   0.2s\n",
      "[CV 5/5] END .........C=10, gamma=1, kernel=rbf;, score=0.751 total time=   0.2s\n",
      "[CV 1/5] END .....C=10, gamma=1, kernel=sigmoid;, score=0.579 total time=   0.2s\n",
      "[CV 2/5] END .....C=10, gamma=1, kernel=sigmoid;, score=0.573 total time=   0.1s\n",
      "[CV 3/5] END .....C=10, gamma=1, kernel=sigmoid;, score=0.556 total time=   0.2s\n",
      "[CV 4/5] END .....C=10, gamma=1, kernel=sigmoid;, score=0.570 total time=   0.1s\n",
      "[CV 5/5] END .....C=10, gamma=1, kernel=sigmoid;, score=0.578 total time=   0.2s\n",
      "[CV 1/5] END ....C=10, gamma=0.1, kernel=linear;, score=0.686 total time=   0.3s\n",
      "[CV 2/5] END ....C=10, gamma=0.1, kernel=linear;, score=0.695 total time=   0.2s\n",
      "[CV 3/5] END ....C=10, gamma=0.1, kernel=linear;, score=0.690 total time=   0.2s\n",
      "[CV 4/5] END ....C=10, gamma=0.1, kernel=linear;, score=0.694 total time=   0.3s\n",
      "[CV 5/5] END ....C=10, gamma=0.1, kernel=linear;, score=0.674 total time=   0.3s\n",
      "[CV 1/5] END .......C=10, gamma=0.1, kernel=rbf;, score=0.704 total time=   0.3s\n",
      "[CV 2/5] END .......C=10, gamma=0.1, kernel=rbf;, score=0.693 total time=   0.3s\n",
      "[CV 3/5] END .......C=10, gamma=0.1, kernel=rbf;, score=0.706 total time=   0.2s\n",
      "[CV 4/5] END .......C=10, gamma=0.1, kernel=rbf;, score=0.694 total time=   0.2s\n",
      "[CV 5/5] END .......C=10, gamma=0.1, kernel=rbf;, score=0.709 total time=   0.2s\n",
      "[CV 1/5] END ...C=10, gamma=0.1, kernel=sigmoid;, score=0.684 total time=   0.3s\n",
      "[CV 2/5] END ...C=10, gamma=0.1, kernel=sigmoid;, score=0.682 total time=   0.3s\n",
      "[CV 3/5] END ...C=10, gamma=0.1, kernel=sigmoid;, score=0.676 total time=   0.3s\n",
      "[CV 4/5] END ...C=10, gamma=0.1, kernel=sigmoid;, score=0.680 total time=   0.2s\n",
      "[CV 5/5] END ...C=10, gamma=0.1, kernel=sigmoid;, score=0.666 total time=   0.3s\n",
      "[CV 1/5] END ...C=10, gamma=0.01, kernel=linear;, score=0.686 total time=   0.4s\n",
      "[CV 2/5] END ...C=10, gamma=0.01, kernel=linear;, score=0.695 total time=   0.2s\n",
      "[CV 3/5] END ...C=10, gamma=0.01, kernel=linear;, score=0.690 total time=   0.3s\n",
      "[CV 4/5] END ...C=10, gamma=0.01, kernel=linear;, score=0.694 total time=   0.2s\n",
      "[CV 5/5] END ...C=10, gamma=0.01, kernel=linear;, score=0.674 total time=   0.3s\n",
      "[CV 1/5] END ......C=10, gamma=0.01, kernel=rbf;, score=0.682 total time=   0.3s\n",
      "[CV 2/5] END ......C=10, gamma=0.01, kernel=rbf;, score=0.681 total time=   0.4s\n",
      "[CV 3/5] END ......C=10, gamma=0.01, kernel=rbf;, score=0.664 total time=   0.4s\n",
      "[CV 4/5] END ......C=10, gamma=0.01, kernel=rbf;, score=0.651 total time=   0.3s\n",
      "[CV 5/5] END ......C=10, gamma=0.01, kernel=rbf;, score=0.670 total time=   0.4s\n",
      "[CV 1/5] END ..C=10, gamma=0.01, kernel=sigmoid;, score=0.672 total time=   0.4s\n",
      "[CV 2/5] END ..C=10, gamma=0.01, kernel=sigmoid;, score=0.677 total time=   0.3s\n",
      "[CV 3/5] END ..C=10, gamma=0.01, kernel=sigmoid;, score=0.639 total time=   0.4s\n",
      "[CV 4/5] END ..C=10, gamma=0.01, kernel=sigmoid;, score=0.657 total time=   0.3s\n",
      "[CV 5/5] END ..C=10, gamma=0.01, kernel=sigmoid;, score=0.657 total time=   0.4s\n",
      "[CV 1/5] END ..C=10, gamma=0.001, kernel=linear;, score=0.686 total time=   0.4s\n",
      "[CV 2/5] END ..C=10, gamma=0.001, kernel=linear;, score=0.695 total time=   0.3s\n",
      "[CV 3/5] END ..C=10, gamma=0.001, kernel=linear;, score=0.690 total time=   0.3s\n",
      "[CV 4/5] END ..C=10, gamma=0.001, kernel=linear;, score=0.694 total time=   0.3s\n",
      "[CV 5/5] END ..C=10, gamma=0.001, kernel=linear;, score=0.674 total time=   0.4s\n",
      "[CV 1/5] END .....C=10, gamma=0.001, kernel=rbf;, score=0.611 total time=   0.6s\n",
      "[CV 2/5] END .....C=10, gamma=0.001, kernel=rbf;, score=0.595 total time=   0.6s\n",
      "[CV 3/5] END .....C=10, gamma=0.001, kernel=rbf;, score=0.583 total time=   0.7s\n",
      "[CV 4/5] END .....C=10, gamma=0.001, kernel=rbf;, score=0.573 total time=   0.7s\n",
      "[CV 5/5] END .....C=10, gamma=0.001, kernel=rbf;, score=0.571 total time=   0.7s\n",
      "[CV 1/5] END .C=10, gamma=0.001, kernel=sigmoid;, score=0.545 total time=   0.6s\n",
      "[CV 2/5] END .C=10, gamma=0.001, kernel=sigmoid;, score=0.509 total time=   0.7s\n",
      "[CV 3/5] END .C=10, gamma=0.001, kernel=sigmoid;, score=0.517 total time=   0.7s\n",
      "[CV 4/5] END .C=10, gamma=0.001, kernel=sigmoid;, score=0.500 total time=   0.7s\n",
      "[CV 5/5] END .C=10, gamma=0.001, kernel=sigmoid;, score=0.496 total time=   0.9s\n",
      "[CV 1/5] END .C=10, gamma=0.0001, kernel=linear;, score=0.686 total time=   0.4s\n",
      "[CV 2/5] END .C=10, gamma=0.0001, kernel=linear;, score=0.695 total time=   0.4s\n",
      "[CV 3/5] END .C=10, gamma=0.0001, kernel=linear;, score=0.690 total time=   0.3s\n",
      "[CV 4/5] END .C=10, gamma=0.0001, kernel=linear;, score=0.694 total time=   0.3s\n",
      "[CV 5/5] END .C=10, gamma=0.0001, kernel=linear;, score=0.674 total time=   0.4s\n",
      "[CV 1/5] END ....C=10, gamma=0.0001, kernel=rbf;, score=0.169 total time=   0.8s\n",
      "[CV 2/5] END ....C=10, gamma=0.0001, kernel=rbf;, score=0.168 total time=   0.7s\n",
      "[CV 3/5] END ....C=10, gamma=0.0001, kernel=rbf;, score=0.168 total time=   0.7s\n",
      "[CV 4/5] END ....C=10, gamma=0.0001, kernel=rbf;, score=0.168 total time=   0.8s\n",
      "[CV 5/5] END ....C=10, gamma=0.0001, kernel=rbf;, score=0.168 total time=   0.8s\n",
      "[CV 1/5] END C=10, gamma=0.0001, kernel=sigmoid;, score=0.169 total time=   0.7s\n",
      "[CV 2/5] END C=10, gamma=0.0001, kernel=sigmoid;, score=0.168 total time=   0.7s\n",
      "[CV 3/5] END C=10, gamma=0.0001, kernel=sigmoid;, score=0.168 total time=   0.8s\n",
      "[CV 4/5] END C=10, gamma=0.0001, kernel=sigmoid;, score=0.168 total time=   0.7s\n",
      "[CV 5/5] END C=10, gamma=0.0001, kernel=sigmoid;, score=0.168 total time=   0.7s\n",
      "[CV 1/5] END .....C=100, gamma=1, kernel=linear;, score=0.690 total time=   1.6s\n",
      "[CV 2/5] END .....C=100, gamma=1, kernel=linear;, score=0.696 total time=   1.1s\n",
      "[CV 3/5] END .....C=100, gamma=1, kernel=linear;, score=0.693 total time=   1.1s\n",
      "[CV 4/5] END .....C=100, gamma=1, kernel=linear;, score=0.700 total time=   1.1s\n",
      "[CV 5/5] END .....C=100, gamma=1, kernel=linear;, score=0.671 total time=   1.0s\n",
      "[CV 1/5] END ........C=100, gamma=1, kernel=rbf;, score=0.739 total time=   0.3s\n",
      "[CV 2/5] END ........C=100, gamma=1, kernel=rbf;, score=0.734 total time=   0.2s\n",
      "[CV 3/5] END ........C=100, gamma=1, kernel=rbf;, score=0.724 total time=   0.2s\n",
      "[CV 4/5] END ........C=100, gamma=1, kernel=rbf;, score=0.729 total time=   0.2s\n",
      "[CV 5/5] END ........C=100, gamma=1, kernel=rbf;, score=0.750 total time=   0.3s\n",
      "[CV 1/5] END ....C=100, gamma=1, kernel=sigmoid;, score=0.573 total time=   0.2s\n",
      "[CV 2/5] END ....C=100, gamma=1, kernel=sigmoid;, score=0.581 total time=   0.2s\n",
      "[CV 3/5] END ....C=100, gamma=1, kernel=sigmoid;, score=0.568 total time=   0.2s\n",
      "[CV 4/5] END ....C=100, gamma=1, kernel=sigmoid;, score=0.541 total time=   0.2s\n",
      "[CV 5/5] END ....C=100, gamma=1, kernel=sigmoid;, score=0.590 total time=   0.2s\n",
      "[CV 1/5] END ...C=100, gamma=0.1, kernel=linear;, score=0.690 total time=   1.5s\n",
      "[CV 2/5] END ...C=100, gamma=0.1, kernel=linear;, score=0.696 total time=   0.9s\n",
      "[CV 3/5] END ...C=100, gamma=0.1, kernel=linear;, score=0.693 total time=   1.1s\n",
      "[CV 4/5] END ...C=100, gamma=0.1, kernel=linear;, score=0.700 total time=   1.0s\n",
      "[CV 5/5] END ...C=100, gamma=0.1, kernel=linear;, score=0.671 total time=   1.1s\n",
      "[CV 1/5] END ......C=100, gamma=0.1, kernel=rbf;, score=0.731 total time=   0.4s\n",
      "[CV 2/5] END ......C=100, gamma=0.1, kernel=rbf;, score=0.723 total time=   0.3s\n",
      "[CV 3/5] END ......C=100, gamma=0.1, kernel=rbf;, score=0.724 total time=   0.3s\n",
      "[CV 4/5] END ......C=100, gamma=0.1, kernel=rbf;, score=0.724 total time=   0.3s\n",
      "[CV 5/5] END ......C=100, gamma=0.1, kernel=rbf;, score=0.748 total time=   0.3s\n",
      "[CV 1/5] END ..C=100, gamma=0.1, kernel=sigmoid;, score=0.688 total time=   0.4s\n",
      "[CV 2/5] END ..C=100, gamma=0.1, kernel=sigmoid;, score=0.681 total time=   0.2s\n",
      "[CV 3/5] END ..C=100, gamma=0.1, kernel=sigmoid;, score=0.684 total time=   0.3s\n",
      "[CV 4/5] END ..C=100, gamma=0.1, kernel=sigmoid;, score=0.694 total time=   0.3s\n",
      "[CV 5/5] END ..C=100, gamma=0.1, kernel=sigmoid;, score=0.669 total time=   0.3s\n",
      "[CV 1/5] END ..C=100, gamma=0.01, kernel=linear;, score=0.690 total time=   1.7s\n",
      "[CV 2/5] END ..C=100, gamma=0.01, kernel=linear;, score=0.696 total time=   0.9s\n",
      "[CV 3/5] END ..C=100, gamma=0.01, kernel=linear;, score=0.693 total time=   1.2s\n",
      "[CV 4/5] END ..C=100, gamma=0.01, kernel=linear;, score=0.700 total time=   1.0s\n",
      "[CV 5/5] END ..C=100, gamma=0.01, kernel=linear;, score=0.671 total time=   1.0s\n",
      "[CV 1/5] END .....C=100, gamma=0.01, kernel=rbf;, score=0.689 total time=   0.3s\n",
      "[CV 2/5] END .....C=100, gamma=0.01, kernel=rbf;, score=0.690 total time=   0.2s\n",
      "[CV 3/5] END .....C=100, gamma=0.01, kernel=rbf;, score=0.676 total time=   0.2s\n",
      "[CV 4/5] END .....C=100, gamma=0.01, kernel=rbf;, score=0.695 total time=   0.2s\n",
      "[CV 5/5] END .....C=100, gamma=0.01, kernel=rbf;, score=0.680 total time=   0.2s\n",
      "[CV 1/5] END .C=100, gamma=0.01, kernel=sigmoid;, score=0.685 total time=   0.2s\n",
      "[CV 2/5] END .C=100, gamma=0.01, kernel=sigmoid;, score=0.682 total time=   0.2s\n",
      "[CV 3/5] END .C=100, gamma=0.01, kernel=sigmoid;, score=0.676 total time=   0.2s\n",
      "[CV 4/5] END .C=100, gamma=0.01, kernel=sigmoid;, score=0.685 total time=   0.3s\n",
      "[CV 5/5] END .C=100, gamma=0.01, kernel=sigmoid;, score=0.666 total time=   0.2s\n",
      "[CV 1/5] END .C=100, gamma=0.001, kernel=linear;, score=0.690 total time=   1.6s\n",
      "[CV 2/5] END .C=100, gamma=0.001, kernel=linear;, score=0.696 total time=   0.9s\n",
      "[CV 3/5] END .C=100, gamma=0.001, kernel=linear;, score=0.693 total time=   1.1s\n",
      "[CV 4/5] END .C=100, gamma=0.001, kernel=linear;, score=0.700 total time=   1.1s\n",
      "[CV 5/5] END .C=100, gamma=0.001, kernel=linear;, score=0.671 total time=   1.0s\n",
      "[CV 1/5] END ....C=100, gamma=0.001, kernel=rbf;, score=0.682 total time=   0.3s\n",
      "[CV 2/5] END ....C=100, gamma=0.001, kernel=rbf;, score=0.684 total time=   0.3s\n",
      "[CV 3/5] END ....C=100, gamma=0.001, kernel=rbf;, score=0.665 total time=   0.4s\n",
      "[CV 4/5] END ....C=100, gamma=0.001, kernel=rbf;, score=0.651 total time=   0.3s\n",
      "[CV 5/5] END ....C=100, gamma=0.001, kernel=rbf;, score=0.670 total time=   0.3s\n",
      "[CV 1/5] END C=100, gamma=0.001, kernel=sigmoid;, score=0.672 total time=   0.3s\n",
      "[CV 2/5] END C=100, gamma=0.001, kernel=sigmoid;, score=0.677 total time=   0.3s\n",
      "[CV 3/5] END C=100, gamma=0.001, kernel=sigmoid;, score=0.639 total time=   0.5s\n",
      "[CV 4/5] END C=100, gamma=0.001, kernel=sigmoid;, score=0.657 total time=   0.3s\n",
      "[CV 5/5] END C=100, gamma=0.001, kernel=sigmoid;, score=0.657 total time=   0.4s\n",
      "[CV 1/5] END C=100, gamma=0.0001, kernel=linear;, score=0.690 total time=   1.5s\n",
      "[CV 2/5] END C=100, gamma=0.0001, kernel=linear;, score=0.696 total time=   0.9s\n",
      "[CV 3/5] END C=100, gamma=0.0001, kernel=linear;, score=0.693 total time=   1.0s\n",
      "[CV 4/5] END C=100, gamma=0.0001, kernel=linear;, score=0.700 total time=   1.0s\n",
      "[CV 5/5] END C=100, gamma=0.0001, kernel=linear;, score=0.671 total time=   1.0s\n",
      "[CV 1/5] END ...C=100, gamma=0.0001, kernel=rbf;, score=0.611 total time=   0.6s\n",
      "[CV 2/5] END ...C=100, gamma=0.0001, kernel=rbf;, score=0.595 total time=   0.6s\n",
      "[CV 3/5] END ...C=100, gamma=0.0001, kernel=rbf;, score=0.585 total time=   0.6s\n",
      "[CV 4/5] END ...C=100, gamma=0.0001, kernel=rbf;, score=0.573 total time=   0.6s\n",
      "[CV 5/5] END ...C=100, gamma=0.0001, kernel=rbf;, score=0.573 total time=   0.6s\n",
      "[CV 1/5] END C=100, gamma=0.0001, kernel=sigmoid;, score=0.545 total time=   0.6s\n",
      "[CV 2/5] END C=100, gamma=0.0001, kernel=sigmoid;, score=0.509 total time=   0.8s\n",
      "[CV 3/5] END C=100, gamma=0.0001, kernel=sigmoid;, score=0.517 total time=   0.6s\n",
      "[CV 4/5] END C=100, gamma=0.0001, kernel=sigmoid;, score=0.500 total time=   0.6s\n",
      "[CV 5/5] END C=100, gamma=0.0001, kernel=sigmoid;, score=0.496 total time=   0.7s\n",
      "[CV 1/5] END ....C=1000, gamma=1, kernel=linear;, score=0.691 total time=  11.0s\n",
      "[CV 2/5] END ....C=1000, gamma=1, kernel=linear;, score=0.698 total time=   7.2s\n",
      "[CV 3/5] END ....C=1000, gamma=1, kernel=linear;, score=0.689 total time=   9.3s\n",
      "[CV 4/5] END ....C=1000, gamma=1, kernel=linear;, score=0.698 total time=   8.9s\n",
      "[CV 5/5] END ....C=1000, gamma=1, kernel=linear;, score=0.674 total time=   9.2s\n",
      "[CV 1/5] END .......C=1000, gamma=1, kernel=rbf;, score=0.739 total time=   0.2s\n",
      "[CV 2/5] END .......C=1000, gamma=1, kernel=rbf;, score=0.734 total time=   0.2s\n",
      "[CV 3/5] END .......C=1000, gamma=1, kernel=rbf;, score=0.721 total time=   0.2s\n",
      "[CV 4/5] END .......C=1000, gamma=1, kernel=rbf;, score=0.730 total time=   0.2s\n",
      "[CV 5/5] END .......C=1000, gamma=1, kernel=rbf;, score=0.749 total time=   0.2s\n",
      "[CV 1/5] END ...C=1000, gamma=1, kernel=sigmoid;, score=0.569 total time=   0.1s\n",
      "[CV 2/5] END ...C=1000, gamma=1, kernel=sigmoid;, score=0.593 total time=   0.2s\n",
      "[CV 3/5] END ...C=1000, gamma=1, kernel=sigmoid;, score=0.547 total time=   0.1s\n",
      "[CV 4/5] END ...C=1000, gamma=1, kernel=sigmoid;, score=0.559 total time=   0.2s\n",
      "[CV 5/5] END ...C=1000, gamma=1, kernel=sigmoid;, score=0.580 total time=   0.2s\n",
      "[CV 1/5] END ..C=1000, gamma=0.1, kernel=linear;, score=0.691 total time=  11.7s\n",
      "[CV 2/5] END ..C=1000, gamma=0.1, kernel=linear;, score=0.698 total time=   7.2s\n",
      "[CV 3/5] END ..C=1000, gamma=0.1, kernel=linear;, score=0.689 total time=   9.2s\n",
      "[CV 4/5] END ..C=1000, gamma=0.1, kernel=linear;, score=0.698 total time=   9.2s\n",
      "[CV 5/5] END ..C=1000, gamma=0.1, kernel=linear;, score=0.674 total time=   8.0s\n",
      "[CV 1/5] END .....C=1000, gamma=0.1, kernel=rbf;, score=0.734 total time=   0.6s\n",
      "[CV 2/5] END .....C=1000, gamma=0.1, kernel=rbf;, score=0.734 total time=   0.4s\n",
      "[CV 3/5] END .....C=1000, gamma=0.1, kernel=rbf;, score=0.724 total time=   0.5s\n",
      "[CV 4/5] END .....C=1000, gamma=0.1, kernel=rbf;, score=0.734 total time=   0.5s\n",
      "[CV 5/5] END .....C=1000, gamma=0.1, kernel=rbf;, score=0.743 total time=   0.4s\n",
      "[CV 1/5] END .C=1000, gamma=0.1, kernel=sigmoid;, score=0.637 total time=   0.6s\n",
      "[CV 2/5] END .C=1000, gamma=0.1, kernel=sigmoid;, score=0.644 total time=   0.6s\n",
      "[CV 3/5] END .C=1000, gamma=0.1, kernel=sigmoid;, score=0.636 total time=   0.5s\n",
      "[CV 4/5] END .C=1000, gamma=0.1, kernel=sigmoid;, score=0.637 total time=   0.7s\n",
      "[CV 5/5] END .C=1000, gamma=0.1, kernel=sigmoid;, score=0.645 total time=   0.7s\n",
      "[CV 1/5] END .C=1000, gamma=0.01, kernel=linear;, score=0.691 total time=  11.3s\n",
      "[CV 2/5] END .C=1000, gamma=0.01, kernel=linear;, score=0.698 total time=   7.1s\n",
      "[CV 3/5] END .C=1000, gamma=0.01, kernel=linear;, score=0.689 total time=   9.1s\n",
      "[CV 4/5] END .C=1000, gamma=0.01, kernel=linear;, score=0.698 total time=   8.6s\n",
      "[CV 5/5] END .C=1000, gamma=0.01, kernel=linear;, score=0.674 total time=   8.2s\n",
      "[CV 1/5] END ....C=1000, gamma=0.01, kernel=rbf;, score=0.705 total time=   0.3s\n",
      "[CV 2/5] END ....C=1000, gamma=0.01, kernel=rbf;, score=0.689 total time=   0.4s\n",
      "[CV 3/5] END ....C=1000, gamma=0.01, kernel=rbf;, score=0.715 total time=   0.4s\n",
      "[CV 4/5] END ....C=1000, gamma=0.01, kernel=rbf;, score=0.701 total time=   0.3s\n",
      "[CV 5/5] END ....C=1000, gamma=0.01, kernel=rbf;, score=0.708 total time=   0.4s\n",
      "[CV 1/5] END C=1000, gamma=0.01, kernel=sigmoid;, score=0.686 total time=   0.5s\n",
      "[CV 2/5] END C=1000, gamma=0.01, kernel=sigmoid;, score=0.695 total time=   0.4s\n",
      "[CV 3/5] END C=1000, gamma=0.01, kernel=sigmoid;, score=0.690 total time=   0.4s\n",
      "[CV 4/5] END C=1000, gamma=0.01, kernel=sigmoid;, score=0.694 total time=   0.5s\n",
      "[CV 5/5] END C=1000, gamma=0.01, kernel=sigmoid;, score=0.674 total time=   0.5s\n",
      "[CV 1/5] END C=1000, gamma=0.001, kernel=linear;, score=0.691 total time=  11.6s\n",
      "[CV 2/5] END C=1000, gamma=0.001, kernel=linear;, score=0.698 total time=   6.9s\n",
      "[CV 3/5] END C=1000, gamma=0.001, kernel=linear;, score=0.689 total time=   9.3s\n",
      "[CV 4/5] END C=1000, gamma=0.001, kernel=linear;, score=0.698 total time=   8.9s\n",
      "[CV 5/5] END C=1000, gamma=0.001, kernel=linear;, score=0.674 total time=   8.0s\n",
      "[CV 1/5] END ...C=1000, gamma=0.001, kernel=rbf;, score=0.686 total time=   0.5s\n",
      "[CV 2/5] END ...C=1000, gamma=0.001, kernel=rbf;, score=0.689 total time=   0.4s\n",
      "[CV 3/5] END ...C=1000, gamma=0.001, kernel=rbf;, score=0.677 total time=   0.3s\n",
      "[CV 4/5] END ...C=1000, gamma=0.001, kernel=rbf;, score=0.694 total time=   0.3s\n",
      "[CV 5/5] END ...C=1000, gamma=0.001, kernel=rbf;, score=0.666 total time=   0.2s\n",
      "[CV 1/5] END C=1000, gamma=0.001, kernel=sigmoid;, score=0.685 total time=   0.2s\n",
      "[CV 2/5] END C=1000, gamma=0.001, kernel=sigmoid;, score=0.682 total time=   0.2s\n",
      "[CV 3/5] END C=1000, gamma=0.001, kernel=sigmoid;, score=0.676 total time=   0.3s\n",
      "[CV 4/5] END C=1000, gamma=0.001, kernel=sigmoid;, score=0.685 total time=   0.2s\n",
      "[CV 5/5] END C=1000, gamma=0.001, kernel=sigmoid;, score=0.666 total time=   0.2s\n",
      "[CV 1/5] END C=1000, gamma=0.0001, kernel=linear;, score=0.691 total time=  11.6s\n",
      "[CV 2/5] END C=1000, gamma=0.0001, kernel=linear;, score=0.698 total time=   7.0s\n",
      "[CV 3/5] END C=1000, gamma=0.0001, kernel=linear;, score=0.689 total time=   9.6s\n",
      "[CV 4/5] END C=1000, gamma=0.0001, kernel=linear;, score=0.698 total time=   8.9s\n",
      "[CV 5/5] END C=1000, gamma=0.0001, kernel=linear;, score=0.674 total time=   8.1s\n",
      "[CV 1/5] END ..C=1000, gamma=0.0001, kernel=rbf;, score=0.682 total time=   0.3s\n",
      "[CV 2/5] END ..C=1000, gamma=0.0001, kernel=rbf;, score=0.684 total time=   0.5s\n",
      "[CV 3/5] END ..C=1000, gamma=0.0001, kernel=rbf;, score=0.666 total time=   0.3s\n",
      "[CV 4/5] END ..C=1000, gamma=0.0001, kernel=rbf;, score=0.651 total time=   0.3s\n",
      "[CV 5/5] END ..C=1000, gamma=0.0001, kernel=rbf;, score=0.670 total time=   0.4s\n",
      "[CV 1/5] END C=1000, gamma=0.0001, kernel=sigmoid;, score=0.672 total time=   0.3s\n",
      "[CV 2/5] END C=1000, gamma=0.0001, kernel=sigmoid;, score=0.677 total time=   0.4s\n",
      "[CV 3/5] END C=1000, gamma=0.0001, kernel=sigmoid;, score=0.639 total time=   0.4s\n",
      "[CV 4/5] END C=1000, gamma=0.0001, kernel=sigmoid;, score=0.657 total time=   0.4s\n",
      "[CV 5/5] END C=1000, gamma=0.0001, kernel=sigmoid;, score=0.657 total time=   0.3s\n",
      "{'C': 100, 'gamma': 1, 'kernel': 'rbf'}\n",
      "SVC(C=100, gamma=1)\n",
      "              precision    recall  f1-score   support\n",
      "\n",
      "           0       0.90      0.83      0.87        90\n",
      "           1       0.54      0.84      0.66       167\n",
      "           2       0.74      0.47      0.58       161\n",
      "           3       0.66      0.65      0.65       168\n",
      "           4       0.94      0.97      0.96       153\n",
      "           5       0.78      0.51      0.62       101\n",
      "           6       0.94      0.94      0.94       160\n",
      "\n",
      "    accuracy                           0.75      1000\n",
      "   macro avg       0.78      0.75      0.75      1000\n",
      "weighted avg       0.77      0.75      0.75      1000\n",
      "\n"
     ]
    }
   ],
   "source": [
    "# defining parameter range\n",
    "param_grid = {'C': [0.1, 1, 10, 100, 1000], \n",
    "              'gamma': [1, 0.1, 0.01, 0.001, 0.0001],\n",
    "              'kernel': ['linear', 'rbf', 'sigmoid']} \n",
    "  \n",
    "grid = GridSearchCV(svc, param_grid, refit = True, verbose = 3)\n",
    "  \n",
    "# fitting the model for grid search\n",
    "grid.fit(dfTfidf_train, ytrain)"
   ]
  },
  {
   "cell_type": "code",
   "execution_count": 22,
   "metadata": {},
   "outputs": [
    {
     "name": "stdout",
     "output_type": "stream",
     "text": [
      "{'C': 100, 'gamma': 1, 'kernel': 'rbf'}\n"
     ]
    }
   ],
   "source": [
    "# print best parameter after tuning\n",
    "print(grid.best_params_)"
   ]
  },
  {
   "cell_type": "code",
   "execution_count": 23,
   "metadata": {},
   "outputs": [
    {
     "name": "stdout",
     "output_type": "stream",
     "text": [
      "SVC(C=100, gamma=1)\n"
     ]
    }
   ],
   "source": [
    "# print how our model looks after hyper-parameter tuning\n",
    "print(grid.best_estimator_)"
   ]
  },
  {
   "cell_type": "code",
   "execution_count": 24,
   "metadata": {},
   "outputs": [
    {
     "name": "stdout",
     "output_type": "stream",
     "text": [
      "              precision    recall  f1-score   support\n",
      "\n",
      "           0       0.90      0.83      0.87        90\n",
      "           1       0.54      0.84      0.66       167\n",
      "           2       0.74      0.47      0.58       161\n",
      "           3       0.66      0.65      0.65       168\n",
      "           4       0.94      0.97      0.96       153\n",
      "           5       0.78      0.51      0.62       101\n",
      "           6       0.94      0.94      0.94       160\n",
      "\n",
      "    accuracy                           0.75      1000\n",
      "   macro avg       0.78      0.75      0.75      1000\n",
      "weighted avg       0.77      0.75      0.75      1000\n",
      "\n"
     ]
    }
   ],
   "source": [
    "grid_predictions = grid.predict(dfTfidf_test)\n",
    "  \n",
    "# print classification report\n",
    "print(classification_report(ytest, grid_predictions))"
   ]
  },
  {
   "cell_type": "markdown",
   "metadata": {},
   "source": [
    "### Select Model"
   ]
  },
  {
   "cell_type": "markdown",
   "metadata": {},
   "source": [
    "# XGBoost"
   ]
  },
  {
   "cell_type": "markdown",
   "metadata": {},
   "source": [
    "Works well with scaled/normalized data"
   ]
  },
  {
   "cell_type": "code",
   "execution_count": null,
   "metadata": {},
   "outputs": [],
   "source": [
    "# pip install xgboost"
   ]
  },
  {
   "cell_type": "code",
   "execution_count": null,
   "metadata": {},
   "outputs": [],
   "source": [
    "#dfTfidf_train\n",
    "#dfTfidf_ngrams_train\n",
    "#avg_word2vec_train\n",
    "#docvec_train"
   ]
  },
  {
   "cell_type": "code",
   "execution_count": null,
   "metadata": {},
   "outputs": [],
   "source": [
    "# xgboost\n",
    "import xgboost as xgb\n",
    "\n",
    "xgb_cl = xgb.XGBClassifier()"
   ]
  },
  {
   "cell_type": "code",
   "execution_count": null,
   "metadata": {},
   "outputs": [],
   "source": [
    "# tf-idf\n",
    "model_xgb_tfidf = xgb_cl.fit(dfTfidf_train, ytrain)\n",
    "xgb_tfidf_pred = model_xgb_tfidf.predict(dfTfidf_test)\n",
    "\n",
    "# n-grams tf-idf\n",
    "model_xgb_ngramTfidf = xgb_cl.fit(dfTfidf_ngrams_train, ytrain)\n",
    "xgb_ngram_tfidf_pred = model_xgb_ngramTfidf.predict(dfTfidf_ngrams_test)\n",
    "\n",
    "# word vectors\n",
    "model_xgb_word2vec = xgb_cl.fit(avg_word2vec_train, ytrain)\n",
    "xgb_word2vec_pred = model_xgb_word2vec.predict(avg_word2vec_test)\n",
    "\n",
    "# document vectors\n",
    "model_xgb_doc2vec = xgb_cl.fit(docvec_train, ytrain)\n",
    "xgb_doc2vec_pred = model_xgb_doc2vec.predict(docvec_test)"
   ]
  },
  {
   "cell_type": "code",
   "execution_count": null,
   "metadata": {},
   "outputs": [],
   "source": [
    "# xgboost tf-idf\n",
    "print(\"\\nTF-IDF\\n\", classification_report(ytest, xgb_tfidf_pred)) # not removing stopwords improves the model significantly"
   ]
  },
  {
   "cell_type": "code",
   "execution_count": null,
   "metadata": {},
   "outputs": [],
   "source": [
    "# xgboost n-grams tf-idf\n",
    "print(\"\\nTF-IDF n-grams\\n\", classification_report(ytest, xgb_ngram_tfidf_pred)) "
   ]
  },
  {
   "cell_type": "code",
   "execution_count": null,
   "metadata": {},
   "outputs": [],
   "source": [
    "# xgboost word vectors\n",
    "print(\"\\nWord vectors\\n\", classification_report(ytest, xgb_word2vec_pred)) "
   ]
  },
  {
   "cell_type": "code",
   "execution_count": null,
   "metadata": {},
   "outputs": [],
   "source": [
    "# xgboost document vectors\n",
    "print(\"\\nDocument Vectors\\n\", classification_report(ytest, xgb_doc2vec_pred)) "
   ]
  },
  {
   "cell_type": "markdown",
   "metadata": {},
   "source": [
    "### Hyperparameter optimization"
   ]
  },
  {
   "cell_type": "code",
   "execution_count": null,
   "metadata": {},
   "outputs": [],
   "source": []
  },
  {
   "cell_type": "markdown",
   "metadata": {},
   "source": [
    "# KNN"
   ]
  },
  {
   "cell_type": "code",
   "execution_count": 9,
   "metadata": {},
   "outputs": [],
   "source": [
    "from sklearn.neighbors import KNeighborsClassifier\n",
    "\n",
    "knn_clf = KNeighborsClassifier()"
   ]
  },
  {
   "cell_type": "code",
   "execution_count": 10,
   "metadata": {},
   "outputs": [],
   "source": [
    "# tf-idf\n",
    "model_knn_tfidf = knn_clf.fit(dfTfidf_train, ytrain)\n",
    "knn_tfidf_pred = model_knn_tfidf.predict(dfTfidf_test)\n",
    "\n",
    "# n-grams tf-idf\n",
    "model_knn_ngramTfidf = knn_clf.fit(dfTfidf_ngrams_train, ytrain)\n",
    "knn_ngram_tfidf_pred = model_knn_ngramTfidf.predict(dfTfidf_ngrams_test)\n",
    "\n",
    "# word vectors\n",
    "model_knn_word2vec = knn_clf.fit(avg_word2vec_train, ytrain)\n",
    "knn_word2vec_pred = model_knn_word2vec.predict(avg_word2vec_test)\n",
    "\n",
    "# document vectors\n",
    "model_knn_doc2vec = knn_clf.fit(docvec_train, ytrain)\n",
    "knn_doc2vec_pred = model_knn_doc2vec.predict(docvec_test)"
   ]
  },
  {
   "cell_type": "code",
   "execution_count": 13,
   "metadata": {},
   "outputs": [
    {
     "name": "stdout",
     "output_type": "stream",
     "text": [
      "\n",
      "TF-IDF\n",
      "               precision    recall  f1-score   support\n",
      "\n",
      "           0       0.91      0.83      0.87        90\n",
      "           1       0.72      0.56      0.63       167\n",
      "           2       0.39      0.58      0.47       161\n",
      "           3       0.67      0.62      0.65       168\n",
      "           4       0.94      0.95      0.94       153\n",
      "           5       0.67      0.52      0.59       101\n",
      "           6       0.92      0.91      0.91       160\n",
      "\n",
      "    accuracy                           0.71      1000\n",
      "   macro avg       0.75      0.71      0.72      1000\n",
      "weighted avg       0.74      0.71      0.72      1000\n",
      "\n"
     ]
    }
   ],
   "source": [
    "# knn n-grams tf-idf\n",
    "print(\"\\nTF-IDF\\n\", classification_report(ytest, knn_tfidf_pred))"
   ]
  },
  {
   "cell_type": "code",
   "execution_count": 15,
   "metadata": {},
   "outputs": [
    {
     "name": "stdout",
     "output_type": "stream",
     "text": [
      "\n",
      "TF-IDF n-grams\n",
      "               precision    recall  f1-score   support\n",
      "\n",
      "           0       0.80      0.72      0.76        90\n",
      "           1       0.79      0.85      0.82       167\n",
      "           2       0.63      0.81      0.71       161\n",
      "           3       0.67      0.63      0.65       168\n",
      "           4       0.72      0.75      0.73       153\n",
      "           5       0.76      0.47      0.58       101\n",
      "           6       0.83      0.79      0.81       160\n",
      "\n",
      "    accuracy                           0.73      1000\n",
      "   macro avg       0.74      0.72      0.72      1000\n",
      "weighted avg       0.74      0.73      0.73      1000\n",
      "\n"
     ]
    }
   ],
   "source": [
    "# knn n-grams tf-idf\n",
    "print(\"\\nTF-IDF n-grams\\n\", classification_report(ytest, knn_ngram_tfidf_pred)) "
   ]
  },
  {
   "cell_type": "code",
   "execution_count": 16,
   "metadata": {},
   "outputs": [
    {
     "name": "stdout",
     "output_type": "stream",
     "text": [
      "\n",
      "Word vectors\n",
      "               precision    recall  f1-score   support\n",
      "\n",
      "           0       0.62      0.92      0.74        90\n",
      "           1       0.88      0.80      0.84       167\n",
      "           2       0.72      0.80      0.76       161\n",
      "           3       0.75      0.42      0.54       168\n",
      "           4       0.76      0.87      0.81       153\n",
      "           5       0.84      0.70      0.76       101\n",
      "           6       0.78      0.89      0.83       160\n",
      "\n",
      "    accuracy                           0.76      1000\n",
      "   macro avg       0.76      0.77      0.75      1000\n",
      "weighted avg       0.77      0.76      0.75      1000\n",
      "\n"
     ]
    }
   ],
   "source": [
    "# knn word vectors\n",
    "print(\"\\nWord vectors\\n\", classification_report(ytest, knn_word2vec_pred)) "
   ]
  },
  {
   "cell_type": "code",
   "execution_count": 17,
   "metadata": {},
   "outputs": [
    {
     "name": "stdout",
     "output_type": "stream",
     "text": [
      "\n",
      "Document Vectors\n",
      "               precision    recall  f1-score   support\n",
      "\n",
      "           0       0.20      0.28      0.23        90\n",
      "           1       0.46      0.63      0.53       167\n",
      "           2       0.22      0.22      0.22       161\n",
      "           3       0.20      0.18      0.19       168\n",
      "           4       0.31      0.31      0.31       153\n",
      "           5       0.34      0.38      0.36       101\n",
      "           6       0.19      0.09      0.12       160\n",
      "\n",
      "    accuracy                           0.29      1000\n",
      "   macro avg       0.27      0.30      0.28      1000\n",
      "weighted avg       0.28      0.29      0.28      1000\n",
      "\n"
     ]
    }
   ],
   "source": [
    "# knn document vectors\n",
    "print(\"\\nDocument Vectors\\n\", classification_report(ytest, knn_doc2vec_pred)) "
   ]
  },
  {
   "cell_type": "markdown",
   "metadata": {},
   "source": [
    "# BERT "
   ]
  },
  {
   "cell_type": "markdown",
   "metadata": {},
   "source": [
    "We use PyTorch in this case. Refere here: https://towardsdatascience.com/text-classification-with-bert-in-pytorch-887965e5820f and here: https://towardsdatascience.com/fine-tuning-bert-for-text-classification-54e7df642894."
   ]
  },
  {
   "cell_type": "code",
   "execution_count": null,
   "metadata": {},
   "outputs": [],
   "source": [
    "# pip install transformers\n",
    "\n",
    "#from transformers import BertTokenizer\n",
    "\n",
    "#tokenizer = BertTokenizer.from_pretrained('bert-base-cased')"
   ]
  },
  {
   "cell_type": "markdown",
   "metadata": {},
   "source": [
    "# Explainable AI: LIME/SHAP"
   ]
  },
  {
   "cell_type": "code",
   "execution_count": null,
   "metadata": {},
   "outputs": [],
   "source": []
  }
 ],
 "metadata": {
  "kernelspec": {
   "display_name": "Python 3.9.13 64-bit (microsoft store)",
   "language": "python",
   "name": "python3"
  },
  "language_info": {
   "codemirror_mode": {
    "name": "ipython",
    "version": 3
   },
   "file_extension": ".py",
   "mimetype": "text/x-python",
   "name": "python",
   "nbconvert_exporter": "python",
   "pygments_lexer": "ipython3",
   "version": "3.9.13"
  },
  "orig_nbformat": 4,
  "vscode": {
   "interpreter": {
    "hash": "bfe9ce709e982859ebd8c1b094ee35d9f73a27801040ad55cc46450c9d5cadda"
   }
  }
 },
 "nbformat": 4,
 "nbformat_minor": 2
}
